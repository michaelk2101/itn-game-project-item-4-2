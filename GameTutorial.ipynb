{
 "cells": [
  {
   "cell_type": "markdown",
   "metadata": {},
   "source": [
    "# Developing a simple platformer in unity\n",
    "In this tutorial you will be able to make a simple 2D platformer game. Below is a video of what the final output will look like."
   ]
  },
  {
   "cell_type": "markdown",
   "metadata": {},
   "source": [
    "## Table of contents\n",
    "0. [Programming C# Basics](#programmingBasics)<br>\n",
    "1. [Project Setup](#projectSetup)<br>\n",
    "    1.1 [Changing the window view in Unity](#unityLayout)<br>\n",
    "    1.2 [Setting up the file structure within Unity](#fileStructure)<br>\n",
    "    1.3 [Quick File Structure Recap](#folderRecap)<br>\n",
    "    1.4 [Downloading Assets](#downloadingAssets)<br>\n",
    "    1.5 [Importing Assets](#importingAssets)<br>\n",
    "    1.6 [Setting up Sprite Sheets](#settingUpSpriteSheets)<br>\n",
    "    1.7 [Saving Scenes](#savingScenes)<br>\n",
    "    1.8 [Adding scenes to build Settings](#addingScenesToBuildSettings)<br>\n",
    "2. [Creating the Main Menu](#mainMenu)<br>\n",
    "    2.1 [Background](#menuBackground)<br>\n",
    "    2.2 [Title](#menuTitle)<br>\n",
    "    2.3 [Buttons](#menuButton)<br>\n",
    "3. [Creating the UI Managment Script](#creatingUIManagementScript)<br>\n",
    "    3.1 [Assigning Functions to buttons](#assigningFunctionsToButton)<br>\n",
    "4. [Level Creation](#levelCreation)<br>\n",
    "    4.1 [Setting Up Animations](#settingUpAnimations)<br>\n",
    "    4.2 [Creating Prefabs](#creatingPrefabs)<br>\n",
    "    4.3 [Creating The Player](#creatingThePlayer)<br>\n",
    "    4.3.1 [playerController Script](#playerController Script)<br>\n",
    "    4.4 [Camera](#camera)<br>\n",
    "    4.5 [Scene Setup](#sceneSetup)<br>\n",
    "5. [Done/Building and Deploying](#end)\n",
    " ***"
   ]
  },
  {
   "cell_type": "markdown",
   "metadata": {},
   "source": [
    "# Programming in C# Basics <a id=\"programmingBasics\"></a>\n",
    "\n",
    "In this section we will cover basic concept you will need for this tutorial.\n",
    "\n",
    "## Basic Syntax:\n",
    "\n",
    "When declaring a variable in C# you must follow the syntax of:\n",
    "<pre><code>\n",
    "DataType variableName = Value; or \n",
    "DataType variableName;\n",
    "</code></pre>\n",
    "\n",
    "## Data Types\n",
    "**There are several data types in C# however we will only need the following:**<br>\n",
    "**Int**\n",
    "an int short for integer stores a number between –2,147,483,648 and 2,147,483,647,\n",
    "an example of this would be\n",
    "\n",
    "<pre><code>\n",
    "int myInterger = 6;\n",
    "</code></pre>\n",
    "\n",
    "**Float** \n",
    "a float short for floating point number is a deciaml number between\n",
    "an example of this would be\n",
    "\n",
    "<pre><code>\n",
    "float myFloat = 0.006f; \n",
    "</code></pre>\n",
    "\n",
    "Note by placing f at the end we are implying that is a float and not a double (a double is also a decimal just it is a double precision(64bits) where as a float is a single precision 32bits)<br>\n",
    "\n",
    "\n",
    "**Bool**\n",
    "short for boolean is a true or false value and can only be one or the other.\n",
    "an example of this would be\n",
    "<pre><code>\n",
    "bool thisIsTrue = true;\n",
    "note when typing true or false in C# it is important to make sure all letters are lowercase\n",
    "</code></pre>\n",
    "\n",
    "## Functions\n",
    "\n",
    "We can define functions in C# with the following Syntax\n",
    "\n",
    "<pre><code>\n",
    "returnType functionName(parameters)\n",
    "{\n",
    "    \n",
    "}\n",
    "</code></pre>\n",
    "\n",
    "to call a function we can simple use its name followed by brackets and a semi-colon \n",
    "for examples functionName();\n",
    "\n",
    "## For Loop\n",
    "we can use a for loop in unity to iterate through a list or an array and example of a for loop is\n",
    "<pre><code>\n",
    "for (int i = 0; i < 5; i++)\n",
    "{\n",
    "    Debug.Log(i);\n",
    "}\n",
    "output:\n",
    "0\n",
    "1\n",
    "2\n",
    "3\n",
    "4\n",
    "\n",
    "</code></pre>\n",
    "\n",
    "## if, else and if else statements\n",
    "we can use if statements to determine control the flow of code an example of this would be \n",
    "<pre><code>\n",
    "int i = 10;\n",
    "if (i == 11)\n",
    "{\n",
    "    Debug.Log(\"i is 11\");\n",
    "} else if (i <= 10)\n",
    "{\n",
    "    Debug.Log(\"i is less than 10\");\n",
    "} else\n",
    "{\n",
    "    Debug.log(\"i is greater than 11\");\n",
    "}\n",
    "</code></pre>\n",
    "\n",
    "## Equality,logical and conditional operators\n",
    "In the previous example we used equality operators to determine what i was below are C#'s equality operators\n",
    "<pre><code>\n",
    "a == b | is true if a is the same as b\n",
    "a != b | is true if a is not the same as b\n",
    "a < b | a is less than b\n",
    "a > b | a is greater than b\n",
    "a <= b | a is less than or equal to b\n",
    "a >= b | a is greater than or equal to b\n",
    "&&     | means and for example this would return true \"1==1 && 'a'==='a'\"\n",
    "|      | this means or example this woud return true \"1==2 | 5==2+3\" because 5 does equal 2+3\n",
    "</code></pre>"
   ]
  },
  {
   "cell_type": "markdown",
   "metadata": {},
   "source": [
    "## Introduction to the startup screen"
   ]
  },
  {
   "cell_type": "markdown",
   "metadata": {},
   "source": [
    "<img src=\"img/ProjectsScreen.png\" width=800>"
   ]
  },
  {
   "cell_type": "markdown",
   "metadata": {},
   "source": [
    "When you first open unity you will be faced with the above screen, this screen features helpful information and useful buttons these include.\n",
    "\n",
    "-  **Project tab**\n",
    "    -  This tab provides an over view of all your projects that are stored on your local device and in the cloud.\n",
    "    -  The projects are in order of most recently opened at the top.\n",
    "-  **Learn tab**\n",
    "    -  This tab is where you can find all of the tutorials that unity provide, made by them. These include all necassary assets and project settings.\n",
    "-  **New Button**\n",
    "    -  This button is used for creating a new project which we will explore in the next section.\n",
    "<img src=\"img/newButton.png\">\n",
    "-  **Open Button**\n",
    "    -  This button is used to open a project that is not in one of unity's indexed project folders\n",
    "<img src=\"img/openButton.png\">"
   ]
  },
  {
   "cell_type": "markdown",
   "metadata": {},
   "source": [
    "***"
   ]
  },
  {
   "cell_type": "markdown",
   "metadata": {},
   "source": [
    "## Project setup<a id=\"projectSetup\"></a>"
   ]
  },
  {
   "cell_type": "markdown",
   "metadata": {},
   "source": [
    "To start this project please click the new button to create a new project, after doing so you will be presented with the following screen"
   ]
  },
  {
   "cell_type": "markdown",
   "metadata": {},
   "source": [
    "<img src=\"img/newProject.png\" width=800>"
   ]
  },
  {
   "cell_type": "markdown",
   "metadata": {},
   "source": [
    "This screen is fairly simple and self explanatory.\n",
    "\n",
    "-  **Project Name**\n",
    "    -  This is what you want the project to be called.\n",
    "    -  you can name this whatever you want but for simplicity in this tutorial it will be nammed **\"ITN Game\"**\n",
    "-  **Location**\n",
    "    -  This is where all the game files will be stored, choose a suitable place with sufficient space\n",
    "    -  **Remember this for later**\n",
    "-  **3D, 2D**\n",
    "    <img src=\"img/3D2D.png\">\n",
    "    -  This is used for unity to determine if you are making a game in 3 dimensions or 2 dimensions\n",
    "    -  We are making a 2D game in this tutorial so **Change this to \"2D\"**\n",
    "-  **If \"Enable Unity Analytics\" is turned on turn it off as it is not needed for this tutorial**"
   ]
  },
  {
   "cell_type": "markdown",
   "metadata": {},
   "source": [
    "## Default Project View\n",
    "You should now be seeing the below screen\n",
    "<img src=\"img/DefaultProjectScreen.png\" width=900>"
   ]
  },
  {
   "cell_type": "markdown",
   "metadata": {},
   "source": [
    "If you do not have the above layout i suggest you change your layout to this in order to make the tutorial easier to follow, the steps to do this are mentioned below:\n",
    "<a id=\"unityLayout\"></a>\n",
    "## Changing the window layout in unity \n",
    "1. Look in the top right hand corner of the window you will see three buttons like this:<br>\n",
    "<img src=\"img/layoutButton.png\"><br>\n",
    "2. Select the button selected in red, you will now be presented with a list similar to whats shown below<br>\n",
    "<img src=\"img/layoutDefault.png\"><br>\n",
    "3. Select The **\"Default\"** option\n",
    "You should now have the same layout as the one that will be used throughout this tutorial"
   ]
  },
  {
   "cell_type": "markdown",
   "metadata": {},
   "source": [
    "***"
   ]
  },
  {
   "cell_type": "markdown",
   "metadata": {},
   "source": [
    "<a id=\"fileStructure\"></a>\n",
    "## Setting up the file structure within Unity"
   ]
  },
  {
   "cell_type": "markdown",
   "metadata": {},
   "source": [
    "To keep things organised when working on a project, it is recommended to have a clean and easy to understand file structure.\n",
    "for this project we will use the following file structure\n",
    "\n",
    "-  Assets(this folder is made for you by unity and is your base folder)\n",
    "    -  **Scripts**\n",
    "    -  **Prefabs**\n",
    "    -  **Sprites**\n",
    "    -  **Animations**\n",
    "    -  **Scenes**\n",
    "\n",
    "If you do not understand why we have the folders with these names it will become clear through out the tutorial.\n",
    "\n",
    "To create a folder in unity follow the video shown below."
   ]
  },
  {
   "cell_type": "markdown",
   "metadata": {},
   "source": [
    "<video controls src=\"vid/creatingAFolder.mov\" width=800><br>\n",
    "\n",
    "\n",
    "note: the first click in the grey area is a secondary click."
   ]
  },
  {
   "cell_type": "markdown",
   "metadata": {},
   "source": [
    "## Quick recap<a id=\"folderRecap\"></a>\n",
    "Steps taken in video:\n",
    "1. Right click where you want the folder\n",
    "2. Hover mouse over create\n",
    "3. Select Folder\n",
    "4. Name the folder"
   ]
  },
  {
   "cell_type": "markdown",
   "metadata": {},
   "source": [
    "***"
   ]
  },
  {
   "cell_type": "markdown",
   "metadata": {},
   "source": [
    "## Downloading the Assets<a id=\"downloadingAssets\"></a>"
   ]
  },
  {
   "cell_type": "markdown",
   "metadata": {},
   "source": [
    "All assets for this tutorial have already been created and provided with this tutorial"
   ]
  },
  {
   "cell_type": "markdown",
   "metadata": {},
   "source": [
    "***"
   ]
  },
  {
   "cell_type": "markdown",
   "metadata": {},
   "source": [
    "<a id=\"importingAssets\"></a>\n",
    "## Importing assets into Unity"
   ]
  },
  {
   "cell_type": "markdown",
   "metadata": {},
   "source": [
    "Once we have downloaded and unpacked the sprites we can begin importing them into unity.\n",
    "1. Double click the sprites folder in the project tab\n",
    "2. Once inside the sprites folder right click anywhere in the space and click **\"Import New Asset..\"**\n",
    "3. A new window will open, navigate to where you extracted the download to and import all of the assets.\n",
    "<br>If you get stuck on these steps watch the video below"
   ]
  },
  {
   "cell_type": "markdown",
   "metadata": {},
   "source": [
    "<video controls src=\"vid/importingAssets.mov\" width=800><br>"
   ]
  },
  {
   "cell_type": "markdown",
   "metadata": {},
   "source": [
    "***\n",
    "<a id=\"settingUpSpriteSheets\"></a>\n",
    "## Setting up sprite sheets in unity\n",
    "\n",
    "The next important step is setting up unity's import settings for the sprite sheets, this is a 2 part process;\n",
    "1. **Changing Import Settings**. All settings can be found in the left **\"inspector pane\"** once the sprite is selected<br>\n",
    "    1.1 Select a sprite sheet to start with, however this will need to be done to every sprite sheet<br>\n",
    "    1.2 Change **\"Sprite Mode\"** from **Single** to **Multiple**<br>\n",
    "    1.3 Change **\"Filter mode\"** from **Bilinear** to **Point (no filter)**<br>\n",
    "        Please note that this is not needed if your sprites are not pixel art\n",
    "    1.4 Change **\"Compression\"** from **Normal Quality** to **None**<br>\n",
    "    1.5 Click **\"Apply\"** at the bottom to apply the setting changes\n",
    "2. **Setting Up Sprite Sheet**<br>\n",
    "    2.1 Select the **\"Sprite Editor\"**<br>\n",
    "    2.2 Select **\"Slice\"** from the top right menu<br>\n",
    "    2.3 Change **\"Type\"** from **\"Automatic\"** to **\"Grid By Cell Size\"**<br>\n",
    "    2.3 Enter **32** as x and y in the **\"Pixel Size\"** boxes<br>\n",
    "    2.4 Click **\"Apply\"** in the top right and close the editor."
   ]
  },
  {
   "cell_type": "markdown",
   "metadata": {},
   "source": [
    "<video controls src=\"vid/settingUpSpriteSheet.mov\" width=800><br>\n",
    "\n",
    "Note in the video i click on each sprite to make sure the bounding box is correct"
   ]
  },
  {
   "cell_type": "markdown",
   "metadata": {},
   "source": [
    "***\n",
    "# Saving Scenes <a id=\"savingScenes\"></a>\n",
    "\n",
    "Now that we have developed our first scene we should being saving them by hitting **CTRL+S** or by going file **\"Save Scenes\"**, after this a dialogue box will pop up asking where to save the scene select your scenes folder.\n",
    "***\n",
    "# Adding scenes to build settings<a id=\"addingScenesToBuildSettings\"></a>\n",
    "It is necesarry to add the scenes we want to be built to the build settings so that we can load them later and reference them in scripts such as in [Here](#assigningFunctionsToButton)\n",
    "\n",
    "To do this go **File > Build Settings...** or **SHIFT + COMMAND(CONTROL) + B**.\n",
    "Once you have the build settings open you can drag scenes from your scenes folder to the **\"Scenes in Build\"** drop box\n",
    "***"
   ]
  },
  {
   "cell_type": "markdown",
   "metadata": {},
   "source": [
    "<a id=\"mainMenu\"></a>\n",
    "# Creating the Main Menu"
   ]
  },
  {
   "cell_type": "markdown",
   "metadata": {},
   "source": [
    "The main menu will consist of buttons and text which will form a UI also known as a **User Interface**<br>\n",
    "Unity has a bunch of it's own tools and presets for creating UI's in this section i will demonstrate how to use the most basic ones in order to create a main menu and an options menu.\n",
    "\n",
    "On the left hand side you will see the scene's Hierachy of objects windows\n",
    "<img src=\"img/sceneWindow.png\" width=800><br>\n",
    "Right clicking anywhere within this window will allow you to create certain GameObjects, Most of the GameObjects we will be using will be under the UI sub-menu.\n",
    "\n",
    "We will start by creating a background for our menu.<br>\n",
    "To do this right click in the window and under **UI** select **Panel**. after doing this you should see that unity has created three objects; a canvas, panel and EventSystem. \n",
    "\n",
    "- The canvas is what all UI objects should be children of.\n",
    "- The panel will work as a placeholder for our background.\n",
    "- EventSystem we do not need to touch as it is just to enable the ability to interact with UI Elements such as buttons and etc.\n",
    "\n",
    "## Background <a id=\"menuBackground\"></a>\n",
    "After this we will want to rename **\"Panel\"** to **\"Background\"** we can do this by selecting panel in the hierarchy and then clicking on the name once.\n",
    "\n",
    "With the panel still selected we can change the background by finding our asset in the **\"Assets folder\"** or wherever you imported it too and draging it into the inspector pane and droping it onto **\"Source Image\"** drop box under the **\"Image (script)\"** tab.\n",
    "\n",
    "After dropping the image in we can open the **\"color\"** settings and increase the **\"Alpha channel\"** to **255** this is also known as transparency and is default 100 for a UI panel."
   ]
  },
  {
   "cell_type": "markdown",
   "metadata": {},
   "source": [
    "<video controls src=\"vid/menuBackGround.mov\" width=800>\n",
    "***"
   ]
  },
  {
   "cell_type": "markdown",
   "metadata": {},
   "source": [
    "## Title <a id=\"menuTitle\"></a>\n",
    "\n",
    "To create a title we will use the text GameObject this is also under the UI tab.\n",
    "1. Right click on the canvas object in the hierarchy panel, by doing this we ensure that the text will become a child of the canvas object\n",
    "2. Under the UI tab select text\n",
    "3. Change the name of the object to gameTitle we can do this like we did last time or by clicking on the name in the transform tab on the right hand side\n",
    "4. We can change the text of this object in by using the **\"Text (script)\"** panel in my game i will set the text to **\"ITN Game\"** and i will change the font to bold and **\"font size\"** to 104.\n",
    "5. After making the text bigger we can no longer see it and that is because the bounding box is to small<br>\n",
    "    5.1 We can either use the handles in the game scene to resixe the box<br>\n",
    "    5.2 Or just manually set the **\"width to 546.6\"** and **\"height to 127.7\"**\n",
    "6. We can also change the alignment of the text so that it is in the middle of the bounding box\n",
    "6. After this we can use the game scene to move the text into a postion we like.\n",
    "7. We can then change the color to something that we like in this example i will use **#21F0F8FF**"
   ]
  },
  {
   "cell_type": "markdown",
   "metadata": {},
   "source": [
    "<video controls src=\"vid/mainMenuTitle.mov\" width=800>\n",
    "***"
   ]
  },
  {
   "cell_type": "markdown",
   "metadata": {},
   "source": [
    "## Buttons<a id=\"menuButton\"></a>\n",
    "\n",
    "After we have our title we will need to create some buttons. for now we will just add the buttons and we will come back and add functionality towards the end.\n",
    "\n",
    "1. Right click on the canvas GameObject and select button from the UI tab.\n",
    "2. Now we will style the button<br>\n",
    "    2.2 Uncheck the box next to **\"Image (script)\"** in the Inpesctor panel this will disable the white box as we will style ours differently<br>\n",
    "    2.3 within the **\"Button (script)\"** we will stylise the button first change normal color to **#FFFFFFFF** this means that the text is displayed normally when the button is not being touched.<br>\n",
    "    2.4 Change the highlighted color to **#FFFFFF70** this just changes the alpha channel and makes the button darker when the mouse **Hovers** over the button<br>\n",
    "    2.5 Set the pressed color to the same as the normal color<br>\n",
    "    2.6 find the text of the button in the hierachy panel and click and drag it onto the **\"Target Graphic\"** this means the all of the settings we just changed will apply to the text.<br>\n",
    "3. By using what we learnt on the previous section change the text to your liking and position it where you like or pause the video and copy my values.\n",
    "4. With the text object selected we can set the anchors for it <br>\n",
    "    4.1 by clicking on the diagram in the **\"Rect Transform\"**.<br>\n",
    "    4.2 While holding **alt** & **Shift** key press the bottom right square <br>\n",
    "    4.3 This will center and anchor the text in the center of the button bounding box.<br>\n",
    "5. We can now test the button by hitting play.\n",
    "\n",
    "Repeat these steps to create another button called **\"Quit\"**"
   ]
  },
  {
   "cell_type": "markdown",
   "metadata": {},
   "source": [
    "<video controls src=\"vid/mainMenuButton.mov\" width=800><br>\n",
    "***"
   ]
  },
  {
   "cell_type": "markdown",
   "metadata": {},
   "source": [
    "## Creating the UI management script<a id=\"creatingUIManagementScript\"></a>\n",
    "\n",
    "To add functionality to our button we will need a script that contains the function we want to run.\n",
    "\n",
    "To do this follow the steps below.\n",
    "1. Select the canvas object in the hierachy.\n",
    "2. scroll to the bottom of the inspector panel and click add component.\n",
    "3. type in **\"mainMenuUIScript\"**.\n",
    "4. select **\"New script\"**.\n",
    "5. Set the language to C Sharp \n",
    "6. Create and Add\n",
    "7. Using the explored find the script in your root assets folder & drag it into your scripts foler.\n",
    "\n",
    "We will now need to open the script and start editing. To open a script in unity just double click on it in the explorer and unity will open the defualt IDE for Mac this is MonoDevelop."
   ]
  },
  {
   "cell_type": "markdown",
   "metadata": {},
   "source": [
    "<video controls src=\"vid/menuCreateScript.mov\" width=800>\n",
    "***"
   ]
  },
  {
   "cell_type": "markdown",
   "metadata": {},
   "source": [
    "## Scripting the menu UI Mangement\n",
    "\n",
    "Now we will start editing the script.\n",
    "\n",
    "Inside the script unity has automatically placed two functions as these are not needed we can just highlight them and remove them.\n",
    "\n",
    "We need two functions as we have two buttons, these functions will need to be public functions for more information on public and private functions please visit <a href=\"https://docs.microsoft.com/en-us/dotnet/csharp/programming-guide/classes-and-structs/access-modifiers\" target=\"_blank\">Here</a>\n",
    "\n",
    "Now we will create our fist public function thisfunction will be called startGame a function is defined by delcaring its scope (public,private,protected), declaring its return data type(void,int,float,etc) and giving it a name. our first function will look like this;"
   ]
  },
  {
   "cell_type": "markdown",
   "metadata": {},
   "source": [
    "<pre><code>public class mainMenuUIScript : MonoBehaviour {\n",
    "\n",
    "\tpublic void startGame()\n",
    "\t{\n",
    "\t\tSceneManager.LoadScene (\"Level01\");\t\n",
    "\t}\n",
    "</code></pre>"
   ]
  },
  {
   "cell_type": "markdown",
   "metadata": {},
   "source": [
    "The line **SceneManger.LoadScene(\"Level01\");** is what will load the next scene (where Level01 is the name of the scene we want to laod) however to use SceneManager we need to import it by adding <pre><code>using UnityEngine.SceneManagement;</code></pre> under the other using statements at the top of the file"
   ]
  },
  {
   "cell_type": "markdown",
   "metadata": {},
   "source": [
    "Now we need to declare our quit function using the below code\n",
    "<pre><code>\t\n",
    "    public void quit()\n",
    "\t{\n",
    "\t\tApplication.Quit ();\n",
    "\t}\n",
    "</code></pre>\n",
    "Application.Quit() will quit the game now all we need to do is assign these function to the buttons we can now switch back to unity to do this."
   ]
  },
  {
   "cell_type": "markdown",
   "metadata": {},
   "source": [
    "Full script **mainMenuUIScript.cs**\n",
    "<pre><code>\n",
    "using System.Collections;\n",
    "using System.Collections.Generic;\n",
    "using UnityEngine;\n",
    "using UnityEngine.SceneManagement;\n",
    "\n",
    "public class mainMenuUIScript : MonoBehaviour {\n",
    "\n",
    "\tpublic void startGame()\n",
    "\t{\n",
    "\t\tSceneManager.LoadScene (\"Level01\");\t\n",
    "\t}\n",
    "\n",
    "\tpublic void quit()\n",
    "\t{\n",
    "\t\tApplication.Quit ();\n",
    "\t}\n",
    "}\n",
    "\n",
    "</code></pre>"
   ]
  },
  {
   "cell_type": "markdown",
   "metadata": {},
   "source": [
    "***\n",
    "## Assingning functions to buttons<a id=\"assigningFunctionsToButton\"></a>\n",
    "to assign buttons to functions we can follow the steps below, first we will start with the start button.\n",
    "1. Select the start button object in the hierachy\n",
    "2. Scroll down to the bottom of the inspector and click the **+** in the **\"On Click ()\"** panel.\n",
    "3. Drag and drop the canvas object from the hierachy onto the drop box.\n",
    "4. Using the drop down menus select **MainMenuUIScript > startGame ()**\n",
    "5. Repeat these steps for the qui button but instead select **MainMenuUIScript > quitGame ()**\n",
    "\n",
    "Note: The quit button will not work when running the game within the editor\n",
    "\n",
    "Note: The scene management function can only load scenes in the build settings to do this please go [Here](#addingScenesToBuildSettings)"
   ]
  },
  {
   "cell_type": "markdown",
   "metadata": {},
   "source": [
    "<video controls src=\"vid/assigningButtonsToFunctions.mov\" width=800>\n",
    "***"
   ]
  },
  {
   "cell_type": "markdown",
   "metadata": {},
   "source": [
    "# Level Creation <a id=\"levelCreation\"></a>\n",
    "\n",
    "This will be one of the largest sections in this tutorial as we will cover everything you need to create a level, from creating the movement scripts,camera scripts ,etc to creating prefabs and setting up the terrain.\n",
    "\n",
    "Quick definitions:\n",
    "- Components\n",
    "    - A component is something you add to the gameobject from the inspector pane an example of this is a script if we drag and drop a script onto a game Object that script becomes a component of that object\n",
    "- Prefab\n",
    "    - A prefab is a game object that you have created in the hierachy and then dragged into the file explorer, by doing this if we want this object again we dont have to manually add all the components it used to have. an example of this is the player prefab once we are done with the player it will have a lot of components and settings that if we wanted to the player again in another scene we would need to remeber all of these, but by using a prefab all of the components are save and we can simply drag and drop the player prefab in\n",
    "- Movement script\n",
    "    - this is the script that will manage the player movement, for a small game like this we can also include other functions the player may need in this as the movement will not be large"
   ]
  },
  {
   "cell_type": "markdown",
   "metadata": {},
   "source": [
    "## Setting up animations <a id=\"settingUpAnimations\"></a>\n",
    "\n",
    "To have animations for our main player in a game we need three things; an actual **animation, animator controller and an animator**.\n",
    "\n",
    "An **animation** is a group of sprites that when played in succession creates movement or a similar affect.\n",
    "\n",
    "An **animation Controller** is what drives the animation and where we can choose what animations to play depending on what parameters we set.\n",
    "\n",
    "An **Animator** is the component that runs all of this on a selected GameObject\n",
    "\n",
    "First we will start by creating the animations we have three animations provided; player_character_2_idle, player_character_2_Jump and player_character_2_run. but when we imported these they were sprite sheets so we now need to turn these into an animations.\n",
    "1. Find the imported sprite sheet and click the little arrow on the side this will open to show each individual frame.<br>\n",
    "2. Select all of these frames and drag them into the scene (anywhere as they will be deleted after). <br>\n",
    "3. A new window will open up asking where you would like to save the animation, select the animations folder and give it a suitable name<br>\n",
    "4. Repeat for all of the sprite sheets<br>\n",
    "\n",
    "We now have animations, now we need something to control them all this is called an **animator controller**.\n",
    "To create an animator controller follow the steps below:\n",
    "1. Right Click anywhere in the animations folder.<br>\n",
    "2. **Create > Animator Controller**<br>\n",
    "3. Choose an appropiate location and name for this controler.<br>\n",
    "\n",
    "we will now need to open the **Animator** window we can do this by selecting **Window(top menu) > Animator**.\n",
    "\n",
    "Now that we have the window open we can start dragging our animations into the grid. Start with the idle animation as the first animation that is dragged in will become the default animation although this can be changed later by **Right clicking the animation and selecting Set As Layer Default State**.\n",
    "***"
   ]
  },
  {
   "cell_type": "markdown",
   "metadata": {},
   "source": [
    "### Setting up animation parameters and order of execution\n",
    "Now we can start connecting the animations with transitions. we will need a transition going from each state to each other. To create a transition right click on a state and select **Make Transition** then click on the state we want the transition to transition too. after doing this you should have similar arrows to the ones pictured below\n",
    "<img src=\"img/animatorController.png\" width=700>\n",
    "***"
   ]
  },
  {
   "cell_type": "markdown",
   "metadata": {},
   "source": [
    "#### Adding parameters for transitions\n",
    "\n",
    "To be able to switch between states through code we will need to declare parameters, to do this simply go to the **parameters** tab in the **animator** window and click the **+** button. we will need the following parameters:\n",
    "     \n",
    "     running : bool\n",
    "     jump    : trigger \n",
    "\n",
    "We now need to change the transition settings to do this select a transition line and use the inspector panel.\n",
    "in here we can specify the condition on which the transition happens and the timing of the transition.\n",
    "\n",
    "We will need the following transition conditons the transition labelling scheme i will use is \n",
    "\n",
    "startState -> endState : condition -- Has Exit Time -- Exit Time --  Transition Duration:Transition Offset\n",
    "\n",
    "the following conditions needed are:\n",
    "<pre><code>\n",
    "CharacterIdle -> CharacterRun   : running:True  -- False\n",
    "CharacterRun  -> Character Idle : running:False -- False\n",
    "\n",
    "CharacterIdle -> CharacterJump  : Jump          -- False\n",
    "CharacterJump -> Character idle :               -- True -- 0.5040984 -- 0.08196723:0.3360656\n",
    "\n",
    "CharacterRun  -> CharacterJump  : Jump          -- False\n",
    "CharacterJump -> CharacterRun   : running:True  -- True -- 0.5040984 -- 0.08196723:0.3360656\n",
    "</code></pre>\n",
    "\n",
    "The Video Below will show a recap of everything in this section except for repeated parts such as transition parameters if you get stuck."
   ]
  },
  {
   "cell_type": "markdown",
   "metadata": {},
   "source": [
    "<video controls src=\"vid/animator.mov\" width=800>\n",
    "***"
   ]
  },
  {
   "cell_type": "markdown",
   "metadata": {},
   "source": [
    "## Creating Prefabs<a id=\"creatingPrefabs\"></a>\n",
    "\n",
    "We can now start setting up our \"building blocks\" such as our platforms and spinning blade. we can then turn these into prefabs so that they can be used later without any prior setup.\n",
    "\n",
    "### Creating the platform\n",
    "1. Start by placing the platform anywhere into the scene.<br>\n",
    "2. Set the scale in the **transform panel** to 9,9,1<br>\n",
    "3. Click **add component**<br>\n",
    "    3.1 Search for **Box Collider 2D**<br>\n",
    "    3.2 You should now see a green box in the **Scene** view this is the collider box.<br>\n",
    "    3.3 Click the Edit Collider button and use your mouse in the **Scene** view to size the box so that it is the size of the platform<br>\n",
    "4. Now that we have the platform setup we can create the prefab of it, open the prefab folder in the file eplorer<br>\n",
    "5. Drag the object from the hierachy and drop it into the folder.<br>\n",
    "6. Now you will see the text turn blue this means that this was successful and that the object in the hierachy complies with the prefab<br>\n",
    "    6.1 If for example we change the scale or any other setting in the hierachy the blue text will change back to black letting you know that the object is not currently the same as the prefab.<br>\n",
    "    6.2 To save any new changes made we can click the **Apply** button up the top of the inspector to apply the changes to the prefab\n",
    "    \n",
    "Repeat these steps for the other platform, once you reach the blade follow previous **steps 1-3** as we want to add a script to this blade as well before we make it a prefab.\n",
    "\n",
    "### Tags\n",
    "To be able to seperate certain objects and make it easier to determine what is what when in code we can use tags. <br>\n",
    "We can get to tags by going **Edit > Project Settings > Tags and Layers**. We will need to add the following tags **\"ground\"** and **\"danger\"**. after we have created these we can set the tag in the **Transform component** of the platform to ground. and we can set the tag of the blade to **danger**."
   ]
  },
  {
   "cell_type": "markdown",
   "metadata": {},
   "source": [
    "### Scripting the spinning blade\n",
    "\n",
    "As this is a blade we will want it to be constantly spinning in game to do this we will need to write a script to do so.\n",
    "\n",
    "To do this add a new script to the blade object following the steps below:\n",
    "1. Select the canvas object in the hierachy.\n",
    "2. scroll to the bottom of the inspector panel and click add component.\n",
    "3. type in **\"bladeController\"**.\n",
    "4. select **\"New script\"**.\n",
    "5. Set the language to C Sharp \n",
    "6. Create and Add\n",
    "7. Using the explored find the script in your root assets folder & drag it into your scripts foler.\n",
    "\n",
    "Below you will find the code that we will put into this file"
   ]
  },
  {
   "cell_type": "markdown",
   "metadata": {},
   "source": [
    "<pre><code>\n",
    "using System.Collections;\n",
    "using System.Collections.Generic;\n",
    "using UnityEngine;\n",
    "\n",
    "public class bladeController : MonoBehaviour {\n",
    "\n",
    "\tpublic float rotateSpeed = -200f; // this is the rotate speed\n",
    "\tprivate Transform m_blade;        // this is the transform we want to rotate\n",
    "\t\n",
    "    // Use this for initialization\n",
    "\tvoid Start () {\n",
    "\t\tm_blade = transform;\n",
    "\t}\n",
    "\t\n",
    "\t// Update is called once per frame\n",
    "\tvoid Update () {\n",
    "\t\t// rotates rotateSpeed degress per second around the z-axis\n",
    "\t\tm_blade.Rotate (0, 0, rotateSpeed * Time.deltaTime);\n",
    "\t}\n",
    "}\n",
    "\n",
    "</code></pre>"
   ]
  },
  {
   "cell_type": "markdown",
   "metadata": {},
   "source": [
    "After writing the script and going back into unity you will now see a float input box come up in the inspector panel under the script tab this is the for public rotate speed. we can now also save this as a prefab and move on to creating the player"
   ]
  },
  {
   "cell_type": "markdown",
   "metadata": {},
   "source": [
    "***"
   ]
  },
  {
   "cell_type": "markdown",
   "metadata": {},
   "source": [
    "## Creating the player <a id=\"creatingThePlayer\"></a>\n",
    "\n",
    "The next step is to create the player gameObject and make it a prefab the player object is complicated and consists of multiple components which we will go through these components include:\n",
    "- Animator\n",
    "- PlayerController (script)\n",
    "- Box Collider 2D 2x\n",
    "- RigidBody2D\n",
    "\n",
    "First we will add all of the components to the player model then we will go through the playerController script.\n",
    "\n",
    "1. Find a sprite that you would like to be the default sprite i chose the first sprite from the idle sprite sheet, although this doesn't matter as the animator will change this once the game is runnin.<br>\n",
    "2. Rename the gameObject to **\"Player\"**<br>\n",
    "3. Set the **scale(x,y,z)** to **(9,9,1)**<br>\n",
    "4. Add the two box colliders<br>\n",
    "    4.1 Using the **Edit Collider button** use one box to cover the top of the player model from the bottom of his hands to the top of his head.<br>\n",
    "    4.2 Do the same for the button box but this time make it around the legs<br>\n",
    "5. Add the **Rigidbody2D** Component and set the gravity scale to 3 this will make the the player seem more snappy when landing from a jump and sticks to the typical platformer genre.\n",
    "6. Add the **playerController.cs** script which we will program in the next section.<br>\n",
    "7. Drag the animatorController we made in the previous [section](#settingUpAnimations) onto the game object in the hierachy.<br>\n",
    "<video controls src=\"vid/playerSetup.mov\" width=800><br><br>\n",
    "\n",
    "\n",
    "Now we have the base of the player model and all we need to do now is program the controls."
   ]
  },
  {
   "cell_type": "markdown",
   "metadata": {},
   "source": [
    "## PlayerController Script <a id=\"playerController Script\"></a>"
   ]
  },
  {
   "cell_type": "markdown",
   "metadata": {},
   "source": [
    "The player controller sciprt will be the longest script in our game as it manages the user's input, players movement and other game related functions such as death.\n",
    "### Full Script\n",
    "The full script is provided below for copy and paste reasons, however we will go through each function/section individually.\n",
    "\n",
    "<u>**playerController.cs**</u>\n",
    "<pre><code>\n",
    "using System.Collections;\n",
    "using System.Collections.Generic;\n",
    "using UnityEngine;\n",
    "using UnityEngine.SceneManagement; // used when dead to load the main menu or next level\n",
    "\n",
    "public class playerController : MonoBehaviour {\n",
    "\n",
    "\tpublic Animator m_animatorController; \t// the animation controller\n",
    "\tpublic float runSpeed = 40f;\n",
    "\tpublic float jumpPower = 100f;\n",
    "\tprivate float horizontalMove = 0f; \t\t// used to pass the movement between update and fixedUpdate\n",
    "\tprivate Rigidbody2D m_rigidBody; \t\t// the rigidbody of this object\n",
    "\tprivate bool m_facing_right = true; \t// used to determine which way the player is facing\n",
    "\tprivate bool m_grounded = true; \t\t// used to tell if we can jump\n",
    "\n",
    "\n",
    "\t// Use this for initialization\n",
    "\tvoid Start () {\n",
    "\t\tm_rigidBody = GetComponent&lt;Rigidbody2D&gt; (); \t\t// get the rigidbody attached to this object\n",
    "\t\tm_animatorController = GetComponent&lt;Animator&gt; (); \t// get the animator attached to this object\n",
    "\t} \n",
    "\t\n",
    "\t// Update is called once per frame\n",
    "\tvoid Update () {\n",
    "\t\thorizontalMove = Input.GetAxisRaw (\"Horizontal\") ; // get horizontal input this range between -1 and 1 defualt 0\n",
    "\n",
    "\t\t// running animations\n",
    "\t\tif (horizontalMove < 0 | horizontalMove > 0) {\n",
    "\t\t\tm_animatorController.SetBool (\"running\", true); \t// Set the running parameter in the animator controller to true to activate the running animation\n",
    "\t\t} else {\n",
    "\t\t\tm_animatorController.SetBool (\"running\", false);\t// Set the running parameter in the animator controller to false to deactivate the running animation\n",
    "\t\t}\n",
    "\n",
    "\t\t// jumping\n",
    "\t\tif (Input.GetButtonDown (\"Jump\")) { // see if we have pressed the jump button\n",
    "\t\t\tJump (); // activate the jump\n",
    "\t\t}\n",
    "\n",
    "\t}\n",
    "\n",
    "\t// This update is called a fixed amount of times per second and should be used to apply any physics related calls\n",
    "\tvoid FixedUpdate()\n",
    "\t{\n",
    "\t\tMove (horizontalMove * Time.deltaTime * runSpeed); // call the move function\n",
    "\t}\n",
    "\n",
    "\n",
    "\t// we will use this function to move the actual player object\n",
    "\tprivate void Move(float move)\n",
    "\t{\n",
    "\t\tVector2 targetVelocity = new Vector2(move,m_rigidBody.velocity.y);\t// find target velocity \n",
    "\t\tm_rigidBody.velocity = targetVelocity; \t\t\t\t\t\t\t\t// set the player to this velocity\n",
    "\n",
    "\n",
    "\t\tif(move > 0 && !m_facing_right) \t\t\t\t\t\t\t\t\t// flip character accordingly\n",
    "\t\t{\n",
    "\t\t\tFlipCharacter ();\n",
    "\t\t} else if (move < 0 && m_facing_right)\n",
    "\t\t{\n",
    "\t\t\tFlipCharacter ();\n",
    "\t\t}\n",
    "\n",
    "\t}\n",
    "\n",
    "\tprivate void Jump ()\n",
    "\t{\n",
    "\t\tif (m_grounded) { \t\t\t\t\t\t\t\t\t\t\t// Check if we are grounded and can jump (avoids double jump)\n",
    "\t\t\tm_animatorController.SetTrigger (\"jump\");\t\t\t\t// activate the jump trigger in the animator controller to start the jump animation\n",
    "\t\t\tm_rigidBody.AddForce(new Vector2(0f, jumpPower)); \t\t// add upwards force to the player \n",
    "\t\t\tm_grounded = false; \t\t\t\t\t\t\t\t\t// we set this to stop multiple jumps in one\n",
    "\t\t}\n",
    "\t}\n",
    "\n",
    "\n",
    "\tprivate void FlipCharacter()\n",
    "\t{\n",
    "\t\tVector3 scale = transform.localScale;\n",
    "\t\tscale.x*=-1; // flip the scale\n",
    "\t\ttransform.localScale= scale; // apply the scale\n",
    "\n",
    "\t\tm_facing_right = !m_facing_right;\n",
    "\t}\n",
    "\n",
    "\t// gets called when we have collided with something\n",
    "\tvoid OnCollisionEnter2D(Collision2D other)\n",
    "\t{\n",
    "\t\tif (other.gameObject.tag == \"ground\") \t\t\t// if we have collided with the ground\n",
    "\t\t{\n",
    "\t\t\tm_grounded = true;\n",
    "\t\t}\n",
    "\n",
    "\t\tif (other.gameObject.tag == \"danger\") { \t\t// if we have collided with something with a danger tag\n",
    "\t\t\tDebug.Log (\"dead\");\t\t\t\t\t\t\t// prints to unity console\n",
    "\t\t\tdie (); \t\t\t\t\t\t\t\t\t// call the die function\n",
    "\t\t}\n",
    "\t}\n",
    "\n",
    "\tvoid die(){\n",
    "\t\tSceneManager.LoadScene (\"MainMenu\"); \t\t\t// Load the main menu scene\n",
    "\t}\n",
    "\n",
    "}\n",
    "\n",
    "</code></pre>"
   ]
  },
  {
   "cell_type": "markdown",
   "metadata": {},
   "source": [
    "### Variable declarations"
   ]
  },
  {
   "cell_type": "markdown",
   "metadata": {},
   "source": [
    "In this section we will delcare most of the variables we will use, note that when we declare a variable as public we can interact with it from the Inspector panel in unity.\n",
    "<pre><code>\n",
    "\tpublic Animator m_animatorController; \t// the animation controller\n",
    "\tpublic float runSpeed = 40f;\n",
    "\tpublic float jumpPower = 100f;\n",
    "\tprivate float horizontalMove = 0f; \t\t// used to pass the movement between update and fixedUpdate\n",
    "\tprivate Rigidbody2D m_rigidBody; \t\t// the rigidbody of this object\n",
    "\tprivate bool m_facing_right = true; \t// used to determine which way the player is facing\n",
    "\tprivate bool m_grounded = true; \t\t// used to tell if we can jump\n",
    "</code></pre>\n",
    "\n",
    "By making an object of Animator public we can then drag the animator on our game object onto the designated box in the script tab within the inspector tab.\n",
    "\n",
    "By initialising the runSpeed at 40f and jumpPower at 100f these will become the default values for the variables if we choose not to change them later in the inspector panel.\n",
    "***"
   ]
  },
  {
   "cell_type": "markdown",
   "metadata": {},
   "source": [
    "### Start Function\n",
    "<pre><code>\n",
    "\tvoid Start () {\n",
    "\t\tm_rigidBody = GetComponent &lt;Rigidbody2D&gt; (); \t\t// get the rigidbody attached to this object\n",
    "\t\tm_animatorController = GetComponent&lt;Animator&gt;(); \t// get the animator attached to this object\n",
    "\t} \n",
    "</code></pre>\n",
    "\n",
    "In this function we are simply assigning the rigidbody which we added to the player to a variable and the same with the animator. This will allow us to call on them later in the code."
   ]
  },
  {
   "cell_type": "markdown",
   "metadata": {},
   "source": [
    "### Update function\n",
    "\n",
    "The update function is a function that unity calls once per frame \n",
    "<pre><code>\n",
    "\tvoid Update () {\n",
    "\t\thorizontalMove = Input.GetAxisRaw (\"Horizontal\") ; // get horizontal input this range between -1 and 1 defualt 0\n",
    "\n",
    "\t\t// running animations\n",
    "\t\tif (horizontalMove < 0 | horizontalMove > 0) {\n",
    "\t\t\tm_animatorController.SetBool (\"running\", true); \t// Set the running parameter in the animator controller to true to activate the running animation\n",
    "\t\t} else {\n",
    "\t\t\tm_animatorController.SetBool (\"running\", false);\t// Set the running parameter in the animator controller to false to deactivate the running animation\n",
    "\t\t}\n",
    "\n",
    "\t\t// jumping\n",
    "\t\tif (Input.GetButtonDown (\"Jump\")) { // see if we have pressed the jump button\n",
    "\t\t\tJump (); // activate the jump\n",
    "\t\t}\n",
    "\n",
    "\t}\n",
    "</code></pre>\n",
    "\n",
    "We start by using the Input function to get the raw value of the Horizontal axis this value is between -1 and 1 with -1 being \"a\" or \"LEFT-ARROW\" and 1 being \"d\" or \"RIGHT-ARROW\".\n",
    "\n",
    "We then determine if the player is running by checking if the value less than or greater than 0 we do this by using the greater then and less than signs along with the \"|\" \"or\" operator. If the character is moving we then we set the animator parameter \"running\" to true by using the \".setBool\" function under out animator controller. if the character is not moving we will set thie bool back to false/.\n",
    "\n",
    "We then use the .GetButtonDown(\"button\") to determine if the player has pressed the jump button \"SPACE\" if they have we will call the jump function defined further down in the script. Note that we can call functions no matter if they ahave been declared above or below in the code as the code is compiled and put into memory before being run.\n",
    "\n",
    "NOTE: We reference the axis' \"Horizontal\" and \"Jump\" there are many other axis' predefined in unity these can be seen and/or changed under **Edit > Project Settings > Input**.\n"
   ]
  },
  {
   "cell_type": "markdown",
   "metadata": {},
   "source": [
    "## FixedUpdate Function\n",
    "\n",
    "the fixed update function works the same as the update function except instead of being called one per frame it is called a fixed amount of times per second.\n",
    "<pre><code>\n",
    "\tvoid FixedUpdate()\n",
    "\t{\n",
    "\t\tMove (horizontalMove * Time.deltaTime * runSpeed); // call the move function\n",
    "\t}\n",
    "</code></pre>\n",
    "\n",
    "It is in this function that we use the horizontalMove that was set in the Update function to move the character as it is important to move the character in this function.\n",
    "\n",
    "We multiply the move by Time.deltaTime and our runSpeed.\n",
    "\n",
    "Time.deltaTime is the amount of time elapsed since the fixedUpdate or Update function was called and allows us to move the character the same amount per second no matter if the function is called 100 times per frame or 20 times per frame."
   ]
  },
  {
   "cell_type": "markdown",
   "metadata": {},
   "source": [
    "## move Function\n",
    "In this function we will write the logic for moving the player character\n",
    "<pre><code>\n",
    "private void Move(float move)\n",
    "\t{\n",
    "\t\tVector2 targetVelocity = new Vector2(move,m_rigidBody.velocity.y);\t// find target velocity \n",
    "\t\tm_rigidBody.velocity = targetVelocity; \t\t\t\t\t\t\t\t// set the player to this velocity\n",
    "\n",
    "\n",
    "\t\tif(move > 0 && !m_facing_right) \t\t\t\t\t\t\t\t\t// flip character accordingly\n",
    "\t\t{\n",
    "\t\t\tFlipCharacter ();\n",
    "\t\t} else if (move < 0 && m_facing_right)\n",
    "\t\t{\n",
    "\t\t\tFlipCharacter ();\n",
    "\t\t}\n",
    "\n",
    "\t}\n",
    "</code></pre>\n",
    "\n",
    "A vector 2 is essentially an object of (x,y) as we want the player to move in the x axis we set the x value of the vector to the move variable and we set the y variable to the current y of the rigidbody.\n",
    "\n",
    "We then check if we are moving and which way we are facing."
   ]
  },
  {
   "cell_type": "markdown",
   "metadata": {},
   "source": [
    "## Jump function\n",
    "In this function we right the logic for moving the character upwards (jumping).\n",
    "\n",
    "<pre><code>\n",
    "private void Jump ()\n",
    "\t{\n",
    "\t\tif (m_grounded) { \t\t\t\t\t\t\t\t\t\t\t// Check if we are grounded and can jump (avoids double jump)\n",
    "\t\t\tm_animatorController.SetTrigger (\"jump\");\t\t\t\t// activate the jump trigger in the animator controller to start the jump animation\n",
    "\t\t\tm_rigidBody.AddForce(new Vector2(0f, jumpPower)); \t\t// add upwards force to the player \n",
    "\t\t\tm_grounded = false; \t\t\t\t\t\t\t\t\t// we set this to stop multiple jumps in one\n",
    "\t\t}\n",
    "\t}\n",
    "</code></pre>\n",
    "\n",
    "First we determine if we are grounded as if we are not on the ground we should not be able to jump if we take out this conditional check we would be able to jump more than once while in the air.\n",
    "If we are grounded then we add a vector2 to our rigidbody attached to the player object, as we want the force to be applied in the y axis we place the jump power in the y position of the vector2."
   ]
  },
  {
   "cell_type": "markdown",
   "metadata": {},
   "source": [
    "## FlipCharacter Function\n",
    "we will use this function to flip the player object.\n",
    "<pre><code>\n",
    "private void FlipCharacter()\n",
    "\t{\n",
    "\t\tVector3 scale = transform.localScale;\n",
    "\t\tscale.x*=-1; // flip the scale\n",
    "\t\ttransform.localScale = scale; // apply the scale\n",
    "\n",
    "\t\tm_facing_right = !m_facing_right;\n",
    "\t}\n",
    "</code></pre>\n",
    "First we get the local scale of the object we then mulitple this by -1 to flip.\n",
    "We then set the facing right variable to the opposite of what it currently is."
   ]
  },
  {
   "cell_type": "markdown",
   "metadata": {},
   "source": [
    "## On Collision Function\n",
    "This function is defined by unity and will be called whenever the collider on the object touches another collider\n",
    "\n",
    "<pre><code>\n",
    "void OnCollisionEnter2D(Collision2D other)\n",
    "\t{\n",
    "\t\tif (other.gameObject.tag == \"ground\") \t\t\t// if we have collided with the ground\n",
    "\t\t{\n",
    "\t\t\tm_grounded = true;\n",
    "\t\t}\n",
    "\n",
    "\t\tif (other.gameObject.tag == \"danger\") { \t\t// if we have collided with something with a danger tag\n",
    "\t\t\tDebug.Log (\"dead\");\t\t\t\t\t\t\t// prints to unity console\n",
    "\t\t\tdie (); \t\t\t\t\t\t\t\t\t// call the die function\n",
    "\t\t}\n",
    "\t}\n",
    "</code></pre>\n",
    "\n",
    "The function takes an input of type Collision2D from this object we can determine if its tag is of the ground if it is then we know we are back on the ground so we set the m_grounded bool to true, allowing us to jump again. then we check if the object we hit has a tag of danger and if it is we then call the die function.\n",
    "\n",
    "You can see that in <code>if (other.gameObject.tag == \"ground\") </code> we reference the tag we created earlier to determine if this is a platform."
   ]
  },
  {
   "cell_type": "markdown",
   "metadata": {},
   "source": [
    "## Die Function\n",
    "This is the function we will call when we die and we will just load the main menu, how ever if you create more scenes you can load them here.\n",
    "<pre><code>\n",
    "void die(){\n",
    "\t\tSceneManager.LoadScene (\"MainMenu\"); \t\t\t// Load the main menu scene\n",
    "\t}\n",
    "</code></pre>"
   ]
  },
  {
   "cell_type": "markdown",
   "metadata": {},
   "source": [
    "Now that we have completed the script we can use the inspector panel to change the jump power and run speed the variables i will be using will be 260 Run Speed and 700 Jump Power. "
   ]
  },
  {
   "cell_type": "markdown",
   "metadata": {},
   "source": [
    "***"
   ]
  },
  {
   "cell_type": "markdown",
   "metadata": {},
   "source": [
    "# Camera <a id=\"camera\"></a>\n",
    "\n",
    "## Script\n",
    "This script will be used to make the camera follow the player or any object specified. and will be placed on the camera object in the hierachy.\n",
    "\n",
    "\n",
    "The full script is provided below\n",
    "\n",
    "<pre><code>\n",
    "using System.Collections;\n",
    "using System.Collections.Generic;\n",
    "using UnityEngine;\n",
    "\n",
    "public class cameraFollow : MonoBehaviour {\n",
    "\t//Variables\n",
    "\tpublic Transform player; // player to follow\n",
    "\tpublic float smooth = 0.8f; // smoothness of camera follow\n",
    "\tprivate bool reachedPlayer = false; // check wether we have reached the player \n",
    "\n",
    "\tprivate Vector3 velocity = Vector3.zero;\n",
    "\n",
    "\n",
    "\t//Methods\n",
    "\tvoid Update()\n",
    "\t{\n",
    "\t\tif(reachedPlayer){\n",
    "\t\t\tsmooth = 0.1f; // if we have reached the player speed up the movement by decreasing the smoothness\n",
    "\t\t}\n",
    "\t\tVector3 pos = new Vector3 ();\n",
    "\t\tpos.x = player.position.x; // set the temp camera x to player x\n",
    "\t\tpos.y = player.position.y; // set the temp camera y to player y\n",
    "\t\tpos.z = -10f;\n",
    "\t\ttransform.position = Vector3.SmoothDamp (transform.position, pos, ref velocity, smooth); // set camera location to location we just set in pos\n",
    "\n",
    "\t}\n",
    "\tvoid OnTriggerEnter2D(Collider2D other) // called when our collider has been triggered\n",
    "\t{\n",
    "\t\tif (other.gameObject.name == \"Player\" && !reachedPlayer) { // determine if it is the player we have hit\n",
    "\t\t\tDebug.Log (\"found\");\n",
    "\t\t\treachedPlayer = true;\n",
    "\t\t}\n",
    "\t}\n",
    "}\n",
    "\n",
    "</code></pre>"
   ]
  },
  {
   "cell_type": "markdown",
   "metadata": {},
   "source": [
    "## variables\n",
    "\n",
    "<pre><code>\n",
    "\tpublic Transform player; // player to follow\n",
    "\tpublic float smooth = 0.8f; // smoothness of camera follow\n",
    "\tprivate bool reachedPlayer = false; // check wether we have reached the player \n",
    "\n",
    "\tprivate Vector3 velocity = Vector3.zero;\n",
    "</code></pre>\n",
    "\n",
    "First we set a public variable of type Transform this is what we will make the camera follow, we can set this by draging what ever object we want the camera to follow into the drop box in the inspector panel of the camera a video is below of how to do this."
   ]
  },
  {
   "cell_type": "markdown",
   "metadata": {},
   "source": [
    "## Update function\n",
    "\n",
    "<pre><code>\n",
    "void Update()\n",
    "\t{\n",
    "\t\tif(reachedPlayer){\n",
    "\t\t\tsmooth = 0.1f; // if we have reached the player speed up the movement by decreasing the smoothness\n",
    "\t\t}\n",
    "\t\tVector3 pos = new Vector3 ();\n",
    "\t\tpos.x = player.position.x; // set the temp camera x to player x\n",
    "\t\tpos.y = player.position.y; // set the temp camera y to player y\n",
    "\t\tpos.z = -10f;\n",
    "\t\ttransform.position = Vector3.SmoothDamp (transform.position, pos, ref velocity, smooth); // set camera location to location we just set in pos\n",
    "\n",
    "\t}\n",
    "</code></pre>\n",
    "As we want the camera to start at one end of the map and move towards the player we first set the smooth variable to 0.8f once we reach the player we want to se the smooth variable to 0.1f.\n",
    "\n",
    "A vector three is (x,y,z) as we want the camera to follow the player in the x and y axis and we want the camera to be -10 back on the z axis we set the vectors x and y value to the same as the players.\n",
    "\n",
    "We then set the position of the camera using the transform component attached to the camera object we then use the Vector3.SmoothDamp function to smoothly move the camera to the player position we need to pass the following variable respectively (currentPosition, positionToMoveToo, referenceVariable, Smoothness);"
   ]
  },
  {
   "cell_type": "markdown",
   "metadata": {},
   "source": [
    "Before we are finished with the camera we need to drag the background onto the camera to make it a childd of the camera this will make the background follow the camera making it seem like the background is endless. we will set the scale of the from **(1, 1, 1)** to **(2, 0.93, 1)**."
   ]
  },
  {
   "cell_type": "markdown",
   "metadata": {},
   "source": [
    "<video controls src=\"vid/settingUpCamera.mov\" width=800><br><br>\n",
    "    \n",
    " ***"
   ]
  },
  {
   "cell_type": "markdown",
   "metadata": {},
   "source": [
    "## Scene setup <a id=\"sceneSetup\"></a>\n",
    "Now that we have all the prefabs ready we can create a level by simply dragging and dropping the prefabs into position. but first we need to setup map bounds.\n",
    "\n",
    "First we will create an empty gameObject and name it terrain this will be the parent of all the terrain objects.\n",
    "now we can drag in out platforms and blade prefabs and create a level. a video below will provide a short demonstation."
   ]
  },
  {
   "cell_type": "markdown",
   "metadata": {},
   "source": [
    "<video controls src=\"vid/sceneSetup.mov\" width=800><br><br>\n",
    "    \n",
    "In the video you can see me changing the sorting layers of the sprite renderer this is the order in which the sprites are rendered and determines what is on top of what i have 2 sorting layers set up one for foreground(the player) and the background(for the backgroun). To set these layers up follow these steps.\n",
    "\n",
    "1. Select the background sprite in the hierachy<br>\n",
    "2. Click on sorting layers<br>\n",
    "3. Select **\"Add Sorting Layer\"**<br>\n",
    "4. Add a sorting layer called **background** and **foreground**<br>\n",
    "Note that the sorting layers are rendered from top to bottom so have the background layer first in the list.\n",
    "\n",
    "you can now set the sorting layers of the background to the background layer.\n",
    "***"
   ]
  },
  {
   "cell_type": "markdown",
   "metadata": {},
   "source": [
    "# Congratulations you have now made your first game in unity. <a id=\"end\"></a>"
   ]
  },
  {
   "cell_type": "markdown",
   "metadata": {},
   "source": [
    "All that is left to do is to export the game to do this go **File > Build & Run**. Choose a location to save the game then click save unity will now build your game and run it for you.\n",
    "\n",
    "***"
   ]
  }
 ],
 "metadata": {
  "kernelspec": {
   "display_name": "Python 3",
   "language": "python",
   "name": "python3"
  },
  "language_info": {
   "codemirror_mode": {
    "name": "ipython",
    "version": 3
   },
   "file_extension": ".py",
   "mimetype": "text/x-python",
   "name": "python",
   "nbconvert_exporter": "python",
   "pygments_lexer": "ipython3",
   "version": "3.6.0"
  }
 },
 "nbformat": 4,
 "nbformat_minor": 2
}
